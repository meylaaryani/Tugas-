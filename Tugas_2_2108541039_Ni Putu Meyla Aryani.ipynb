{
 "cells": [
  {
   "cell_type": "markdown",
   "id": "750235f7",
   "metadata": {},
   "source": [
    "### 5.12 List di Python"
   ]
  },
  {
   "cell_type": "markdown",
   "id": "695ea709",
   "metadata": {},
   "source": [
    "Figure 17: Contoh list pada Python"
   ]
  },
  {
   "cell_type": "code",
   "execution_count": 1,
   "id": "019c031c",
   "metadata": {
    "scrolled": true
   },
   "outputs": [
    {
     "name": "stdout",
     "output_type": "stream",
     "text": [
      "['mawar', 'melati', 'anggrek', 'kamboja', 'sandat']\n"
     ]
    }
   ],
   "source": [
    "bunga = ['mawar', 'melati', 'anggrek', 'kamboja', 'sandat']\n",
    "print(bunga)"
   ]
  },
  {
   "cell_type": "code",
   "execution_count": 2,
   "id": "6735bf6e",
   "metadata": {},
   "outputs": [
    {
     "name": "stdout",
     "output_type": "stream",
     "text": [
      "mawar\n"
     ]
    }
   ],
   "source": [
    "print(bunga[0])"
   ]
  },
  {
   "cell_type": "code",
   "execution_count": 3,
   "id": "20913e5d",
   "metadata": {},
   "outputs": [
    {
     "name": "stdout",
     "output_type": "stream",
     "text": [
      "kamboja\n"
     ]
    }
   ],
   "source": [
    "print(bunga[3])"
   ]
  },
  {
   "cell_type": "code",
   "execution_count": 4,
   "id": "bcad85dd",
   "metadata": {},
   "outputs": [
    {
     "name": "stdout",
     "output_type": "stream",
     "text": [
      "anggrek\n"
     ]
    }
   ],
   "source": [
    "print(bunga[-3])"
   ]
  },
  {
   "cell_type": "code",
   "execution_count": 5,
   "id": "5b86fa30",
   "metadata": {},
   "outputs": [
    {
     "name": "stdout",
     "output_type": "stream",
     "text": [
      "sandat\n"
     ]
    }
   ],
   "source": [
    "print(bunga[-1])"
   ]
  },
  {
   "cell_type": "code",
   "execution_count": 6,
   "id": "ac1d444e",
   "metadata": {},
   "outputs": [
    {
     "name": "stdout",
     "output_type": "stream",
     "text": [
      "['tulip', 'melati', 'anggrek', 'kamboja', 'sandat']\n"
     ]
    }
   ],
   "source": [
    "bunga[0] = 'tulip'\n",
    "print(bunga)"
   ]
  },
  {
   "cell_type": "code",
   "execution_count": 7,
   "id": "55927ce7",
   "metadata": {},
   "outputs": [
    {
     "name": "stdout",
     "output_type": "stream",
     "text": [
      "['tulip', 'melati']\n"
     ]
    }
   ],
   "source": [
    "print(bunga[0:2])"
   ]
  },
  {
   "cell_type": "code",
   "execution_count": 8,
   "id": "2278a3ef",
   "metadata": {},
   "outputs": [
    {
     "name": "stdout",
     "output_type": "stream",
     "text": [
      "['tulip', 'melati', 'anggrek', 'kamboja', 'sandat']\n"
     ]
    }
   ],
   "source": [
    "# tidak merubah list\n",
    "print(bunga)"
   ]
  },
  {
   "cell_type": "markdown",
   "id": "65d5a78f",
   "metadata": {},
   "source": [
    "### 5.13 Metoda List"
   ]
  },
  {
   "cell_type": "markdown",
   "id": "328710ab",
   "metadata": {},
   "source": [
    "Figure 18: Contoh metoda list pada Python"
   ]
  },
  {
   "cell_type": "code",
   "execution_count": 9,
   "id": "3c61ad66",
   "metadata": {},
   "outputs": [
    {
     "name": "stdout",
     "output_type": "stream",
     "text": [
      "['Meyla', 'Arya', 'Adit', 'Cantika']\n"
     ]
    }
   ],
   "source": [
    "nama = ['Meyla', 'Arya', 'Adit']\n",
    "nama.append('Cantika')\n",
    "print(nama)"
   ]
  },
  {
   "cell_type": "code",
   "execution_count": 10,
   "id": "c68180f6",
   "metadata": {},
   "outputs": [
    {
     "name": "stdout",
     "output_type": "stream",
     "text": [
      "['Dinda', 'Meyla', 'Arya', 'Adit', 'Cantika']\n"
     ]
    }
   ],
   "source": [
    "nama.insert(0,'Dinda')\n",
    "print(nama)"
   ]
  },
  {
   "cell_type": "code",
   "execution_count": 11,
   "id": "b8075594",
   "metadata": {},
   "outputs": [
    {
     "name": "stdout",
     "output_type": "stream",
     "text": [
      "['Dinda', 'Arya', 'Adit', 'Cantika']\n"
     ]
    }
   ],
   "source": [
    "nama.remove('Meyla')\n",
    "print(nama)"
   ]
  },
  {
   "cell_type": "code",
   "execution_count": 12,
   "id": "f5fb4bc7",
   "metadata": {},
   "outputs": [
    {
     "name": "stdout",
     "output_type": "stream",
     "text": [
      "False\n"
     ]
    }
   ],
   "source": [
    "print('Meyla' in nama)"
   ]
  },
  {
   "cell_type": "code",
   "execution_count": 13,
   "id": "cc70697d",
   "metadata": {},
   "outputs": [
    {
     "name": "stdout",
     "output_type": "stream",
     "text": [
      "True\n"
     ]
    }
   ],
   "source": [
    "print('Adit' in nama)"
   ]
  },
  {
   "cell_type": "code",
   "execution_count": 14,
   "id": "731e7516",
   "metadata": {},
   "outputs": [
    {
     "name": "stdout",
     "output_type": "stream",
     "text": [
      "4\n"
     ]
    }
   ],
   "source": [
    "print(len(nama))"
   ]
  },
  {
   "cell_type": "markdown",
   "id": "69a3dce1",
   "metadata": {},
   "source": [
    "### 5.14 For loop"
   ]
  },
  {
   "cell_type": "markdown",
   "id": "754c721f",
   "metadata": {},
   "source": [
    "Figure 19: Contoh for loop pada Python"
   ]
  },
  {
   "cell_type": "code",
   "execution_count": 15,
   "id": "d0912796",
   "metadata": {},
   "outputs": [
    {
     "name": "stdout",
     "output_type": "stream",
     "text": [
      "mawar\n",
      "melati\n",
      "anggrek\n",
      "kamboja\n",
      "sandat\n"
     ]
    }
   ],
   "source": [
    "bunga = ['mawar', 'melati', 'anggrek', 'kamboja', 'sandat']\n",
    "for jenis in bunga:\n",
    "    print(jenis)"
   ]
  },
  {
   "cell_type": "code",
   "execution_count": 16,
   "id": "c43a6489",
   "metadata": {},
   "outputs": [
    {
     "name": "stdout",
     "output_type": "stream",
     "text": [
      "mawar\n",
      "melati\n",
      "anggrek\n",
      "kamboja\n",
      "sandat\n"
     ]
    }
   ],
   "source": [
    "i = 0 \n",
    "while i <len(bunga):\n",
    "    print(bunga[i])\n",
    "    i+=1"
   ]
  },
  {
   "cell_type": "markdown",
   "id": "f642c11a",
   "metadata": {},
   "source": [
    "### 5.15 Fungsi range"
   ]
  },
  {
   "cell_type": "markdown",
   "id": "ea398083",
   "metadata": {},
   "source": [
    "Figure 20: Contoh penerapan range pada Python\n"
   ]
  },
  {
   "cell_type": "code",
   "execution_count": 17,
   "id": "d2d6cc8d",
   "metadata": {},
   "outputs": [
    {
     "name": "stdout",
     "output_type": "stream",
     "text": [
      "range(0, 8)\n"
     ]
    }
   ],
   "source": [
    "angka = range(8)\n",
    "print(angka)"
   ]
  },
  {
   "cell_type": "code",
   "execution_count": 18,
   "id": "8bcb51c9",
   "metadata": {},
   "outputs": [
    {
     "name": "stdout",
     "output_type": "stream",
     "text": [
      "0\n",
      "1\n",
      "2\n",
      "3\n",
      "4\n",
      "5\n",
      "6\n",
      "7\n"
     ]
    }
   ],
   "source": [
    "for isi in angka:\n",
    "    print(isi)"
   ]
  },
  {
   "cell_type": "code",
   "execution_count": 19,
   "id": "ac6b73bf",
   "metadata": {},
   "outputs": [
    {
     "name": "stdout",
     "output_type": "stream",
     "text": [
      "4\n",
      "5\n",
      "6\n",
      "7\n"
     ]
    }
   ],
   "source": [
    "for isi in range(4,8):\n",
    "    print(isi)"
   ]
  },
  {
   "cell_type": "code",
   "execution_count": 20,
   "id": "625e3a38",
   "metadata": {},
   "outputs": [
    {
     "name": "stdout",
     "output_type": "stream",
     "text": [
      "0\n",
      "3\n",
      "6\n",
      "9\n"
     ]
    }
   ],
   "source": [
    "for isi in range(0,11,3):\n",
    "    print(isi)"
   ]
  },
  {
   "cell_type": "markdown",
   "id": "7fff6352",
   "metadata": {},
   "source": [
    "Figure 21: Jawaban latihan mencari bilangan terbesar di dalam suatu list."
   ]
  },
  {
   "cell_type": "code",
   "execution_count": 21,
   "id": "0301a82b",
   "metadata": {},
   "outputs": [
    {
     "name": "stdout",
     "output_type": "stream",
     "text": [
      "7\n"
     ]
    }
   ],
   "source": [
    "data = [7,5,3,1,3,5,7]\n",
    "terbesar = data[0]\n",
    "for i in range(len(data)):\n",
    "    if data[i] > terbesar:\n",
    "        terbesar = data[i]\n",
    "print(terbesar)"
   ]
  },
  {
   "cell_type": "code",
   "execution_count": 22,
   "id": "06f2b6dc",
   "metadata": {},
   "outputs": [
    {
     "name": "stdout",
     "output_type": "stream",
     "text": [
      "7\n"
     ]
    }
   ],
   "source": [
    "data = [7,5,3,1,3,5,7]\n",
    "terbesar = data[0]\n",
    "for angka in data:\n",
    "    if angka > terbesar:\n",
    "        terbesar = angka\n",
    "print(terbesar)"
   ]
  },
  {
   "cell_type": "markdown",
   "id": "8d6e70ae",
   "metadata": {},
   "source": [
    "Figure 22: Jawaban latihan membuat anggota list menjadi unik.\n"
   ]
  },
  {
   "cell_type": "code",
   "execution_count": 23,
   "id": "d3da4e37",
   "metadata": {},
   "outputs": [
    {
     "name": "stdout",
     "output_type": "stream",
     "text": [
      "[2, 3, 5, 7, 9, 1, 4, 6, 8, 0]\n"
     ]
    }
   ],
   "source": [
    "angka = [2,3,5,7,9,1,4,6,8,0,3,5,7,9,8]\n",
    "angka_unik = []\n",
    "for anggota in angka:\n",
    "    if anggota not in angka_unik:\n",
    "        angka_unik.append(anggota)\n",
    "print(angka_unik)"
   ]
  },
  {
   "cell_type": "markdown",
   "id": "e7d4a7fa",
   "metadata": {},
   "source": [
    "### 5.16 List 2 Dimensi"
   ]
  },
  {
   "cell_type": "markdown",
   "id": "18cd7847",
   "metadata": {},
   "source": [
    "Figure 23: Contoh penerapan list 2 dimensi.\n"
   ]
  },
  {
   "cell_type": "code",
   "execution_count": 24,
   "id": "99dacfec",
   "metadata": {},
   "outputs": [
    {
     "name": "stdout",
     "output_type": "stream",
     "text": [
      "[[1, 4, 1, 1], [2, 1, 0, 5], [11, 19, 20], [13, 17, 15]]\n"
     ]
    }
   ],
   "source": [
    "matrik = [\n",
    "    [1,4,1,1],\n",
    "    [2,1,0,5],\n",
    "    [11,19,20],\n",
    "    [13,17,15]\n",
    "]\n",
    "print(matrik)"
   ]
  },
  {
   "cell_type": "code",
   "execution_count": 25,
   "id": "d0c4a469",
   "metadata": {},
   "outputs": [
    {
     "data": {
      "text/plain": [
       "[13, 17, 15]"
      ]
     },
     "execution_count": 25,
     "metadata": {},
     "output_type": "execute_result"
    }
   ],
   "source": [
    "matrik[3]"
   ]
  },
  {
   "cell_type": "code",
   "execution_count": 26,
   "id": "2a71c039",
   "metadata": {},
   "outputs": [
    {
     "data": {
      "text/plain": [
       "5"
      ]
     },
     "execution_count": 26,
     "metadata": {},
     "output_type": "execute_result"
    }
   ],
   "source": [
    "matrik[1][3]"
   ]
  },
  {
   "cell_type": "code",
   "execution_count": 27,
   "id": "52800a82",
   "metadata": {},
   "outputs": [
    {
     "name": "stdout",
     "output_type": "stream",
     "text": [
      "50\n"
     ]
    }
   ],
   "source": [
    "matrik[1][3]=50\n",
    "print(matrik[1][3])"
   ]
  },
  {
   "cell_type": "code",
   "execution_count": 28,
   "id": "c5122b0e",
   "metadata": {},
   "outputs": [
    {
     "data": {
      "text/plain": [
       "[[1, 4, 1, 1], [2, 1, 0, 50], [11, 19, 20], [13, 17, 15]]"
      ]
     },
     "execution_count": 28,
     "metadata": {},
     "output_type": "execute_result"
    }
   ],
   "source": [
    "matrik"
   ]
  },
  {
   "cell_type": "markdown",
   "id": "4cd40ad7",
   "metadata": {},
   "source": [
    "Figure 24: Cara memanggil anggota dari list 2 dimensi."
   ]
  },
  {
   "cell_type": "code",
   "execution_count": 29,
   "id": "8ffe439e",
   "metadata": {},
   "outputs": [
    {
     "name": "stdout",
     "output_type": "stream",
     "text": [
      "[1, 4, 1, 1]\n",
      "1\n",
      "4\n",
      "1\n",
      "1\n",
      "[2, 1, 0, 50]\n",
      "2\n",
      "1\n",
      "0\n",
      "50\n",
      "[11, 19, 20]\n",
      "11\n",
      "19\n",
      "20\n",
      "[13, 17, 15]\n",
      "13\n",
      "17\n",
      "15\n"
     ]
    }
   ],
   "source": [
    "for baris in matrik:\n",
    "    print(baris)\n",
    "    for kolom in baris:\n",
    "        print(kolom)"
   ]
  },
  {
   "cell_type": "markdown",
   "id": "88ff5b88",
   "metadata": {},
   "source": [
    "### 5.17 Tuples\n"
   ]
  },
  {
   "cell_type": "markdown",
   "id": "786a4ab8",
   "metadata": {},
   "source": [
    "Figure 25: Contoh penerapan tuples pada Python"
   ]
  },
  {
   "cell_type": "code",
   "execution_count": 30,
   "id": "b27ca4e1",
   "metadata": {},
   "outputs": [],
   "source": [
    "angka = (2,1,0,8,5,4)"
   ]
  },
  {
   "cell_type": "code",
   "execution_count": 31,
   "id": "c492c846",
   "metadata": {},
   "outputs": [
    {
     "name": "stdout",
     "output_type": "stream",
     "text": [
      "0\n"
     ]
    }
   ],
   "source": [
    "print(angka[2])"
   ]
  },
  {
   "cell_type": "code",
   "execution_count": 32,
   "id": "fc2cb0c4",
   "metadata": {},
   "outputs": [
    {
     "name": "stdout",
     "output_type": "stream",
     "text": [
      "(2, 1, 0, 8)\n"
     ]
    }
   ],
   "source": [
    "print(angka[0:4])"
   ]
  },
  {
   "cell_type": "code",
   "execution_count": 33,
   "id": "16e1bb24",
   "metadata": {},
   "outputs": [
    {
     "name": "stdout",
     "output_type": "stream",
     "text": [
      "2\n",
      "1\n",
      "0\n"
     ]
    }
   ],
   "source": [
    "for isi in angka[0:3]:\n",
    "    print(isi)"
   ]
  },
  {
   "cell_type": "code",
   "execution_count": 34,
   "id": "6538a784",
   "metadata": {},
   "outputs": [
    {
     "ename": "TypeError",
     "evalue": "'tuple' object does not support item assignment",
     "output_type": "error",
     "traceback": [
      "\u001b[0;31m---------------------------------------------------------------------------\u001b[0m",
      "\u001b[0;31mTypeError\u001b[0m                                 Traceback (most recent call last)",
      "\u001b[0;32m/var/folders/5p/jcc_lcw974q8d85vn294v4z00000gn/T/ipykernel_2693/990756246.py\u001b[0m in \u001b[0;36m<module>\u001b[0;34m\u001b[0m\n\u001b[0;32m----> 1\u001b[0;31m \u001b[0mangka\u001b[0m\u001b[0;34m[\u001b[0m\u001b[0;36m0\u001b[0m\u001b[0;34m]\u001b[0m \u001b[0;34m=\u001b[0m \u001b[0;36m0\u001b[0m\u001b[0;34m\u001b[0m\u001b[0;34m\u001b[0m\u001b[0m\n\u001b[0m",
      "\u001b[0;31mTypeError\u001b[0m: 'tuple' object does not support item assignment"
     ]
    }
   ],
   "source": [
    "angka[0] = 0"
   ]
  },
  {
   "cell_type": "code",
   "execution_count": 35,
   "id": "0f3ec848",
   "metadata": {},
   "outputs": [
    {
     "ename": "AttributeError",
     "evalue": "'tuple' object has no attribute 'append'",
     "output_type": "error",
     "traceback": [
      "\u001b[0;31m---------------------------------------------------------------------------\u001b[0m",
      "\u001b[0;31mAttributeError\u001b[0m                            Traceback (most recent call last)",
      "\u001b[0;32m/var/folders/5p/jcc_lcw974q8d85vn294v4z00000gn/T/ipykernel_2693/949763769.py\u001b[0m in \u001b[0;36m<module>\u001b[0;34m\u001b[0m\n\u001b[0;32m----> 1\u001b[0;31m \u001b[0mangka\u001b[0m\u001b[0;34m.\u001b[0m\u001b[0mappend\u001b[0m\u001b[0;34m(\u001b[0m\u001b[0;36m6\u001b[0m\u001b[0;34m)\u001b[0m\u001b[0;34m\u001b[0m\u001b[0;34m\u001b[0m\u001b[0m\n\u001b[0m",
      "\u001b[0;31mAttributeError\u001b[0m: 'tuple' object has no attribute 'append'"
     ]
    }
   ],
   "source": [
    "angka.append(6)"
   ]
  },
  {
   "cell_type": "code",
   "execution_count": 36,
   "id": "8deafecb",
   "metadata": {},
   "outputs": [
    {
     "ename": "AttributeError",
     "evalue": "'tuple' object has no attribute 'remove'",
     "output_type": "error",
     "traceback": [
      "\u001b[0;31m---------------------------------------------------------------------------\u001b[0m",
      "\u001b[0;31mAttributeError\u001b[0m                            Traceback (most recent call last)",
      "\u001b[0;32m/var/folders/5p/jcc_lcw974q8d85vn294v4z00000gn/T/ipykernel_2693/398027589.py\u001b[0m in \u001b[0;36m<module>\u001b[0;34m\u001b[0m\n\u001b[0;32m----> 1\u001b[0;31m \u001b[0mangka\u001b[0m\u001b[0;34m.\u001b[0m\u001b[0mremove\u001b[0m\u001b[0;34m(\u001b[0m\u001b[0;36m2\u001b[0m\u001b[0;34m)\u001b[0m\u001b[0;34m\u001b[0m\u001b[0;34m\u001b[0m\u001b[0m\n\u001b[0m",
      "\u001b[0;31mAttributeError\u001b[0m: 'tuple' object has no attribute 'remove'"
     ]
    }
   ],
   "source": [
    "angka.remove(2)"
   ]
  },
  {
   "cell_type": "code",
   "execution_count": 37,
   "id": "16213967",
   "metadata": {},
   "outputs": [
    {
     "data": {
      "text/plain": [
       "1"
      ]
     },
     "execution_count": 37,
     "metadata": {},
     "output_type": "execute_result"
    }
   ],
   "source": [
    "angka.count(2)"
   ]
  },
  {
   "cell_type": "code",
   "execution_count": 38,
   "id": "95c9595f",
   "metadata": {},
   "outputs": [
    {
     "data": {
      "text/plain": [
       "4"
      ]
     },
     "execution_count": 38,
     "metadata": {},
     "output_type": "execute_result"
    }
   ],
   "source": [
    "angka.index(5)"
   ]
  },
  {
   "cell_type": "markdown",
   "id": "fe84f832",
   "metadata": {},
   "source": [
    "### 5.18 Dictionaries"
   ]
  },
  {
   "cell_type": "markdown",
   "id": "81e716e4",
   "metadata": {},
   "source": [
    "Figure 26: Contoh dictionaries.\n"
   ]
  },
  {
   "cell_type": "code",
   "execution_count": 39,
   "id": "cea0855d",
   "metadata": {},
   "outputs": [],
   "source": [
    "data_orang = {\n",
    "     \"nama\" : \"Meyla aryani\",\n",
    "     \"umur\" : 18,\n",
    "     \"apakah_jomblo\" : True \n",
    " }"
   ]
  },
  {
   "cell_type": "code",
   "execution_count": 40,
   "id": "f2628927",
   "metadata": {},
   "outputs": [
    {
     "name": "stdout",
     "output_type": "stream",
     "text": [
      "Meyla aryani\n"
     ]
    }
   ],
   "source": [
    "print(data_orang['nama'])"
   ]
  },
  {
   "cell_type": "code",
   "execution_count": 41,
   "id": "4b2248c7",
   "metadata": {},
   "outputs": [
    {
     "ename": "KeyError",
     "evalue": "'Nama'",
     "output_type": "error",
     "traceback": [
      "\u001b[0;31m---------------------------------------------------------------------------\u001b[0m",
      "\u001b[0;31mKeyError\u001b[0m                                  Traceback (most recent call last)",
      "\u001b[0;32m/var/folders/5p/jcc_lcw974q8d85vn294v4z00000gn/T/ipykernel_2693/1883148979.py\u001b[0m in \u001b[0;36m<module>\u001b[0;34m\u001b[0m\n\u001b[0;32m----> 1\u001b[0;31m \u001b[0mprint\u001b[0m\u001b[0;34m(\u001b[0m\u001b[0mdata_orang\u001b[0m\u001b[0;34m[\u001b[0m\u001b[0;34m'Nama'\u001b[0m\u001b[0;34m]\u001b[0m\u001b[0;34m)\u001b[0m\u001b[0;34m\u001b[0m\u001b[0;34m\u001b[0m\u001b[0m\n\u001b[0m",
      "\u001b[0;31mKeyError\u001b[0m: 'Nama'"
     ]
    }
   ],
   "source": [
    "print(data_orang['Nama'])"
   ]
  },
  {
   "cell_type": "code",
   "execution_count": 42,
   "id": "b4620b90",
   "metadata": {},
   "outputs": [
    {
     "name": "stdout",
     "output_type": "stream",
     "text": [
      "Meyla aryani\n"
     ]
    }
   ],
   "source": [
    "print(data_orang.get('nama'))"
   ]
  },
  {
   "cell_type": "code",
   "execution_count": 43,
   "id": "c836e9c7",
   "metadata": {},
   "outputs": [
    {
     "name": "stdout",
     "output_type": "stream",
     "text": [
      "None\n"
     ]
    }
   ],
   "source": [
    "print(data_orang.get('Nama'))"
   ]
  },
  {
   "cell_type": "code",
   "execution_count": 44,
   "id": "cafb9195",
   "metadata": {},
   "outputs": [
    {
     "name": "stdout",
     "output_type": "stream",
     "text": [
      "None\n"
     ]
    }
   ],
   "source": [
    "print(data_orang.get('tanggal_lahir'))"
   ]
  },
  {
   "cell_type": "code",
   "execution_count": 45,
   "id": "1459362a",
   "metadata": {},
   "outputs": [
    {
     "name": "stdout",
     "output_type": "stream",
     "text": [
      "1-Mei-2003\n"
     ]
    }
   ],
   "source": [
    "print(data_orang.get('tanggal_lahir','1-Mei-2003'))"
   ]
  },
  {
   "cell_type": "code",
   "execution_count": 46,
   "id": "6f0b6a63",
   "metadata": {},
   "outputs": [
    {
     "name": "stdout",
     "output_type": "stream",
     "text": [
      "{'nama': 'Meyla aryani', 'umur': 18, 'apakah_jomblo': True}\n"
     ]
    }
   ],
   "source": [
    "print(data_orang)"
   ]
  },
  {
   "cell_type": "code",
   "execution_count": 47,
   "id": "8088aacc",
   "metadata": {},
   "outputs": [
    {
     "ename": "KeyError",
     "evalue": "'tanggal_lahir'",
     "output_type": "error",
     "traceback": [
      "\u001b[0;31m---------------------------------------------------------------------------\u001b[0m",
      "\u001b[0;31mKeyError\u001b[0m                                  Traceback (most recent call last)",
      "\u001b[0;32m/var/folders/5p/jcc_lcw974q8d85vn294v4z00000gn/T/ipykernel_2693/3463751171.py\u001b[0m in \u001b[0;36m<module>\u001b[0;34m\u001b[0m\n\u001b[0;32m----> 1\u001b[0;31m \u001b[0mprint\u001b[0m\u001b[0;34m(\u001b[0m\u001b[0mdata_orang\u001b[0m\u001b[0;34m[\u001b[0m\u001b[0;34m\"tanggal_lahir\"\u001b[0m\u001b[0;34m]\u001b[0m\u001b[0;34m)\u001b[0m\u001b[0;34m\u001b[0m\u001b[0;34m\u001b[0m\u001b[0m\n\u001b[0m",
      "\u001b[0;31mKeyError\u001b[0m: 'tanggal_lahir'"
     ]
    }
   ],
   "source": [
    "print(data_orang[\"tanggal_lahir\"])"
   ]
  },
  {
   "cell_type": "code",
   "execution_count": 48,
   "id": "0fb15f35",
   "metadata": {},
   "outputs": [],
   "source": [
    "data_orang[\"HP\"]='087861539447'"
   ]
  },
  {
   "cell_type": "code",
   "execution_count": 49,
   "id": "d9459963",
   "metadata": {},
   "outputs": [
    {
     "name": "stdout",
     "output_type": "stream",
     "text": [
      "087861539447\n"
     ]
    }
   ],
   "source": [
    "print(data_orang[\"HP\"])"
   ]
  },
  {
   "cell_type": "code",
   "execution_count": 50,
   "id": "dfb2ac99",
   "metadata": {},
   "outputs": [
    {
     "name": "stdout",
     "output_type": "stream",
     "text": [
      "{'nama': 'Meyla aryani', 'umur': 18, 'apakah_jomblo': True, 'HP': '087861539447'}\n"
     ]
    }
   ],
   "source": [
    "print(data_orang)"
   ]
  },
  {
   "cell_type": "markdown",
   "id": "96f60752",
   "metadata": {},
   "source": [
    "Figure 27: Program membaca nomor HP."
   ]
  },
  {
   "cell_type": "code",
   "execution_count": 51,
   "id": "d126e6ef",
   "metadata": {},
   "outputs": [],
   "source": [
    "angka = {\n",
    "    \"0\" : \"nol\",\n",
    "    \"1\" : \"satu\",\n",
    "    \"2\" : \"dua\",\n",
    "    \"3\" : \"tiga\",\n",
    "    \"4\" : \"empat\",\n",
    "    \"5\" : \"lima\",\n",
    "    \"6\" : \"enam\",\n",
    "    \"7\" : \"tujuh\",\n",
    "    \"8\" : \"delapan\",\n",
    "    \"9\" : \"sembilan\",\n",
    "}"
   ]
  },
  {
   "cell_type": "code",
   "execution_count": 52,
   "id": "d499a891",
   "metadata": {},
   "outputs": [
    {
     "name": "stdout",
     "output_type": "stream",
     "text": [
      "Masukkan Nomor Induk Mahasiswa anda 087426123\n",
      "nol delapan tujuh empat dua enam satu dua tiga \n"
     ]
    }
   ],
   "source": [
    "Nomor_Induk_Mahasiswa = input(\"Masukkan Nomor Induk Mahasiswa anda \")\n",
    "Nomor_Angka = \"\"\n",
    "for isi in Nomor_Induk_Mahasiswa:\n",
    "    Nomor_Angka += angka.get(isi) + \" \"\n",
    "print (Nomor_Angka)"
   ]
  },
  {
   "cell_type": "code",
   "execution_count": 53,
   "id": "281cd832",
   "metadata": {},
   "outputs": [
    {
     "name": "stdout",
     "output_type": "stream",
     "text": [
      "Masukkan Nomor Induk Mahasiswa anda 2108541039\n",
      "dua satu nol delapan lima empat satu nol tiga sembilan \n"
     ]
    }
   ],
   "source": [
    "Nomor_Induk_Mahasiswa = input(\"Masukkan Nomor Induk Mahasiswa anda \")\n",
    "Nomor_Angka = \"\"\n",
    "for isi in Nomor_Induk_Mahasiswa:\n",
    "    Nomor_Angka += angka.get(isi) + \" \"\n",
    "print (Nomor_Angka)"
   ]
  },
  {
   "cell_type": "markdown",
   "id": "5dcd4c56",
   "metadata": {},
   "source": [
    "### 5.19 Fungsi dalam Python"
   ]
  },
  {
   "cell_type": "markdown",
   "id": "ef1de25f",
   "metadata": {},
   "source": [
    "Figure 28: Contoh fungsi dalam Python.\n"
   ]
  },
  {
   "cell_type": "code",
   "execution_count": 54,
   "id": "0736c5e4",
   "metadata": {},
   "outputs": [],
   "source": [
    "def full_name(first_name,last_name):\n",
    "    print(f\"Nama lengkapku yaitu {first_name} {last_name}\")"
   ]
  },
  {
   "cell_type": "code",
   "execution_count": 55,
   "id": "9e2265e8",
   "metadata": {},
   "outputs": [
    {
     "name": "stdout",
     "output_type": "stream",
     "text": [
      "Nama depan ku yaitu Ni Putu \n",
      "Nama belakang ku yaitu Meyla Aryani\n",
      "Nama lengkapku yaitu Ni Putu  Meyla Aryani\n"
     ]
    }
   ],
   "source": [
    "first_name = input(\"Nama depan ku yaitu \")\n",
    "last_name = input(\"Nama belakang ku yaitu \")\n",
    "full_name(first_name,last_name)"
   ]
  },
  {
   "cell_type": "markdown",
   "id": "7f93bf7e",
   "metadata": {},
   "source": [
    "#### 5.19.1 Tugas Fungsi pada Python"
   ]
  },
  {
   "cell_type": "markdown",
   "id": "75108d9f",
   "metadata": {},
   "source": [
    "Figure 29: Contoh tugas fungsi dalam Python."
   ]
  },
  {
   "cell_type": "code",
   "execution_count": 56,
   "id": "61a052b1",
   "metadata": {},
   "outputs": [],
   "source": [
    "def perpindahan_barang(usaha,gaya):\n",
    "    perpindahan = usaha/gaya\n",
    "    print(perpindahan)"
   ]
  },
  {
   "cell_type": "code",
   "execution_count": 57,
   "id": "4ae18912",
   "metadata": {},
   "outputs": [],
   "source": [
    "def perpindahan_benda(usaha,gaya):\n",
    "    perpindahan = usaha/gaya\n",
    "    return perpindahan"
   ]
  },
  {
   "cell_type": "code",
   "execution_count": 58,
   "id": "dd55f1b5",
   "metadata": {},
   "outputs": [
    {
     "name": "stdout",
     "output_type": "stream",
     "text": [
      "2.0\n"
     ]
    }
   ],
   "source": [
    "perpindahan_barang(40,20)"
   ]
  },
  {
   "cell_type": "code",
   "execution_count": 59,
   "id": "5b8cfa15",
   "metadata": {},
   "outputs": [
    {
     "data": {
      "text/plain": [
       "2.0"
      ]
     },
     "execution_count": 59,
     "metadata": {},
     "output_type": "execute_result"
    }
   ],
   "source": [
    "perpindahan_benda(40,20)"
   ]
  },
  {
   "cell_type": "code",
   "execution_count": 60,
   "id": "bc3f2502",
   "metadata": {},
   "outputs": [
    {
     "name": "stdout",
     "output_type": "stream",
     "text": [
      "2.0\n",
      "None\n"
     ]
    }
   ],
   "source": [
    "x = perpindahan_barang(40,20)\n",
    "print(x)"
   ]
  },
  {
   "cell_type": "code",
   "execution_count": 61,
   "id": "7a976f0e",
   "metadata": {},
   "outputs": [
    {
     "name": "stdout",
     "output_type": "stream",
     "text": [
      "2.0\n"
     ]
    }
   ],
   "source": [
    "y = perpindahan_benda(40,20)\n",
    "print(y)"
   ]
  },
  {
   "cell_type": "markdown",
   "id": "7bbab1eb",
   "metadata": {},
   "source": [
    "Figure 30: Jawaban latihan fungsi dalam Python."
   ]
  },
  {
   "cell_type": "code",
   "execution_count": 62,
   "id": "5c0f6aba",
   "metadata": {},
   "outputs": [],
   "source": [
    "import numpy as np"
   ]
  },
  {
   "cell_type": "code",
   "execution_count": 63,
   "id": "59eda80a",
   "metadata": {},
   "outputs": [],
   "source": [
    "def luas_trapesium(sisi_atas,sisi_bawah,tinggi):\n",
    "    luas = (1/2)*(sisi_atas+sisi_bawah)*tinggi\n",
    "    return luas\n",
    "def luas_jajar_genjang(alas,tinggi):\n",
    "    luas = alas*tinggi\n",
    "    return luas\n",
    "def luas_persegi(sisi):\n",
    "    luas = sisi*sisi\n",
    "    return luas\n",
    "def luas_layang_layang(diagonal1_diagonal2):\n",
    "    luas = (1/2)*diagonal1*diagonal2\n",
    "    return keliling"
   ]
  },
  {
   "cell_type": "code",
   "execution_count": 64,
   "id": "6f44b625",
   "metadata": {},
   "outputs": [
    {
     "name": "stdout",
     "output_type": "stream",
     "text": [
      "Masukkan jenis bidang Trapesium\n",
      "Berapakah panjang sisi atasnya? 20\n",
      "Berapakah panjang sisi bawahnya? 30\n",
      "Berapakah tingginya? 20\n",
      "Luas Trapesium yaitu 500.0\n"
     ]
    }
   ],
   "source": [
    "jenis_bidang = input(\"Masukkan jenis bidang \")\n",
    "if jenis_bidang.upper() == 'TRAPESIUM' :\n",
    "    sisi_atas = float(input('Berapakah panjang sisi atasnya? '))\n",
    "    sisi_bawah = float(input('Berapakah panjang sisi bawahnya? '))\n",
    "    tinggi = float(input('Berapakah tingginya? '))\n",
    "    luas = luas_trapesium(sisi_atas,sisi_bawah,tinggi)\n",
    "    print(f\"Luas {jenis_bidang} yaitu {luas}\")\n",
    "elif jenis_bidang.upper() == 'JAJAR_GENJANG' :\n",
    "    alas = float(input('Berapakah panjang alasnya? '))\n",
    "    tinggi = float(input('Berapakah tingginya? '))\n",
    "    luas = luas_jajar_genjang(alas,tinggi)\n",
    "    print(f\"Luas {jenis_bidang} yaitu {luas}\")\n",
    "elif jenis_bidang.upper() == 'PERSEGI' :\n",
    "    sisi = float(input('Berapakah panjang sisinya? '))\n",
    "    luas = luas_persegi(sisi)\n",
    "    print(f\"Luas {jenis_bidang} yaitu {luas}\")\n",
    "elif jenis_bidang.upper() == 'LAYANG_LAYANG' :\n",
    "    diagonal1 = float(input('Berapakah panjang diagonal1? '))\n",
    "    diagonal2 = float(input('Berapakah panjang diagonal2? '))\n",
    "    luas_layang_layang(diagonal1_diagonal2)\n",
    "    print(f\"Luas {jenis_bidang} yaitu {luas}\")\n",
    "else :\n",
    "    print(f\"Mohon maaf bidang {jenis_bidang} yang anda masukkan tidak ada.\")\n",
    "    print(\"Hanya terdapat pilihan TRAPESIUM, JAJAR_GENJANG, PERSEGI dan LAYANG-LAYANG.\")\n",
    "    print('Terima Kasih')"
   ]
  },
  {
   "cell_type": "code",
   "execution_count": 65,
   "id": "2d574f3f",
   "metadata": {},
   "outputs": [
    {
     "name": "stdout",
     "output_type": "stream",
     "text": [
      "Masukkan jenis bidang Lingkaran\n",
      "Mohon maaf bidang Lingkaran yang anda masukkan tidak ada.\n",
      "Hanya terdapat pilihan TRAPESIUM, JAJAR_GENJANG, PERSEGI dan LAYANG-LAYANG.\n",
      "Terima Kasih\n"
     ]
    }
   ],
   "source": [
    "jenis_bidang = input(\"Masukkan jenis bidang \")\n",
    "if jenis_bidang.upper() == 'TRAPESIUM' :\n",
    "    sisi_atas = float(input('Berapakah panjang sisi atasnya? '))\n",
    "    sisi_bawah = float(input('Berapakah panjang sisi bawahnya? '))\n",
    "    tinggi = float(input('Berapakah tingginya? '))\n",
    "    luas = luas_trapesium(sisi_atas,sisi_bawah,tinggi)\n",
    "    print(f\"Luas {jenis_bidang} yaitu {luas}\")\n",
    "elif jenis_bidang.upper() == 'JAJAR_GENJANG' :\n",
    "    alas = float(input('Berapakah panjang alasnya? '))\n",
    "    tinggi = float(input('Berapakah tingginya? '))\n",
    "    luas = luas_jajar_genjang(alas,tinggi)\n",
    "    print(f\"Luas {jenis_bidang} yaitu {luas}\")\n",
    "elif jenis_bidang.upper() == 'PERSEGI' :\n",
    "    sisi = float(input('Berapakah panjang sisinya? '))\n",
    "    luas = luas_persegi(sisi)\n",
    "    print(f\"Luas {jenis_bidang} yaitu {luas}\")\n",
    "elif jenis_bidang.upper() == 'LAYANG_LAYANG' :\n",
    "    diagonal1 = float(input('Berapakah panjang diagonal1? '))\n",
    "    diagonal2 = float(input('Berapakah panjang diagonal2? '))\n",
    "    luas_layang_layang(diagonal1_diagonal2)\n",
    "    print(f\"Luas {jenis_bidang} yaitu {luas}\")\n",
    "else :\n",
    "    print(f\"Mohon maaf bidang {jenis_bidang} yang anda masukkan tidak ada.\")\n",
    "    print(\"Hanya terdapat pilihan TRAPESIUM, JAJAR_GENJANG, PERSEGI dan LAYANG-LAYANG.\")\n",
    "    print('Terima Kasih')"
   ]
  }
 ],
 "metadata": {
  "kernelspec": {
   "display_name": "Python 3 (ipykernel)",
   "language": "python",
   "name": "python3"
  },
  "language_info": {
   "codemirror_mode": {
    "name": "ipython",
    "version": 3
   },
   "file_extension": ".py",
   "mimetype": "text/x-python",
   "name": "python",
   "nbconvert_exporter": "python",
   "pygments_lexer": "ipython3",
   "version": "3.9.7"
  }
 },
 "nbformat": 4,
 "nbformat_minor": 5
}
