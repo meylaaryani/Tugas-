{
 "cells": [
  {
   "cell_type": "markdown",
   "id": "e2e0cc89",
   "metadata": {},
   "source": [
    "# 5.1 Print"
   ]
  },
  {
   "cell_type": "markdown",
   "id": "010c2b2d",
   "metadata": {},
   "source": [
    "Figure 2: Perintah print"
   ]
  },
  {
   "cell_type": "code",
   "execution_count": null,
   "id": "c9db6289",
   "metadata": {},
   "outputs": [],
   "source": [
    "print('Hai Semua!')"
   ]
  },
  {
   "cell_type": "code",
   "execution_count": null,
   "id": "90aa8fd7",
   "metadata": {},
   "outputs": [],
   "source": [
    "print(\"Hai Semua!\")"
   ]
  },
  {
   "cell_type": "code",
   "execution_count": null,
   "id": "b4ce00f0",
   "metadata": {},
   "outputs": [],
   "source": [
    "print(\"Don't look back with regret, look forward with hope\")"
   ]
  },
  {
   "cell_type": "code",
   "execution_count": null,
   "id": "fed680e9",
   "metadata": {},
   "outputs": [],
   "source": [
    "print('Don't look back with regret, look forward with hope')"
   ]
  },
  {
   "cell_type": "code",
   "execution_count": null,
   "id": "6ef7c549",
   "metadata": {},
   "outputs": [],
   "source": [
    "print('He is very \"HANDSOME\"')"
   ]
  },
  {
   "cell_type": "code",
   "execution_count": null,
   "id": "0c8aabf4",
   "metadata": {},
   "outputs": [],
   "source": [
    "print(\"He is very \"HANDSOME\"\")"
   ]
  },
  {
   "cell_type": "markdown",
   "id": "2844874b",
   "metadata": {},
   "source": [
    "Figure 3: Contoh penggunaan perintah print"
   ]
  },
  {
   "cell_type": "code",
   "execution_count": null,
   "id": "05100e1d",
   "metadata": {},
   "outputs": [],
   "source": [
    "mahasiswi = 39 \n",
    "uang_di_dompet = 5000\n",
    "print(mahasiswi)\n",
    "print(uang_di_dompet)\n",
    "print(mahasiswi*uang_di_dompet)"
   ]
  },
  {
   "cell_type": "code",
   "execution_count": null,
   "id": "d44b4b1a",
   "metadata": {},
   "outputs": [],
   "source": [
    "nama_depan = 'Meyla'\n",
    "spasi = ' '\n",
    "nama_belakang = \"Aryani\"\n",
    "print(nama_depan + spasi + nama_belakang)"
   ]
  },
  {
   "cell_type": "markdown",
   "id": "e94f060e",
   "metadata": {},
   "source": [
    "# 5.2 Input"
   ]
  },
  {
   "cell_type": "markdown",
   "id": "a3e4b45f",
   "metadata": {},
   "source": [
    "Figure 4: Contoh penggunaan perintah input"
   ]
  },
  {
   "cell_type": "code",
   "execution_count": null,
   "id": "d878e38d",
   "metadata": {},
   "outputs": [],
   "source": [
    "nama = input(\"siapa nama anda?\")\n",
    "keluhan = input('Apa keluhan yang anda rasakan saat ini, ' + nama +\"? \")\n",
    "print(\"Baik ini obatnya, semoga \"+ keluhan +\" anda cepat sembuh yahh, \" + nama + \"!\")"
   ]
  },
  {
   "cell_type": "markdown",
   "id": "0058b0a6",
   "metadata": {},
   "source": [
    "# 5.3 Tipe Data pada Python"
   ]
  },
  {
   "cell_type": "markdown",
   "id": "c11db768",
   "metadata": {},
   "source": [
    "Figure 5: Cara merubah tipe data"
   ]
  },
  {
   "cell_type": "code",
   "execution_count": null,
   "id": "ad368142",
   "metadata": {},
   "outputs": [],
   "source": [
    "harga_buku = input(\"Berapakah harga satuan buku itu? \")\n",
    "harga_pensil = input(\"Berapakah harga satuan pensil itu? \")\n",
    "print(\"Jumlah harga yang harus dibayar adalah Rp \" + harga_buku + harga_pensil)"
   ]
  },
  {
   "cell_type": "code",
   "execution_count": null,
   "id": "a01f3dc2",
   "metadata": {},
   "outputs": [],
   "source": [
    "harga_buku = input(\"Berapakah harga satuan buku itu? \")\n",
    "harga_pensil = input(\"Berapakah harga satuan pensil itu? \")\n",
    "jumlah_bayar = int(harga_buku) + int(harga_pensil)\n",
    "print(\"Jumlah harga yang harus dibayar adalah Rp \"+ str(jumlah_bayar))"
   ]
  },
  {
   "cell_type": "markdown",
   "id": "6db4f6d7",
   "metadata": {},
   "source": [
    "Figure 6: Cara melihat tipe data tiap variabel"
   ]
  },
  {
   "cell_type": "code",
   "execution_count": null,
   "id": "47280d70",
   "metadata": {},
   "outputs": [],
   "source": [
    "type(harga_buku)"
   ]
  },
  {
   "cell_type": "code",
   "execution_count": null,
   "id": "9f5004dd",
   "metadata": {},
   "outputs": [],
   "source": [
    "type(harga_pensil)"
   ]
  },
  {
   "cell_type": "code",
   "execution_count": null,
   "id": "e31abd57",
   "metadata": {},
   "outputs": [],
   "source": [
    "type(jumlah_bayar)"
   ]
  },
  {
   "cell_type": "markdown",
   "id": "24dc0a2d",
   "metadata": {},
   "source": [
    "Figure 7: Program penjumlahan dua bilangan dengan menggunakan input dan print"
   ]
  },
  {
   "cell_type": "code",
   "execution_count": null,
   "id": "38c820aa",
   "metadata": {},
   "outputs": [],
   "source": [
    "bilangan1 = input(\"Bilangan pertama yaitu \")\n",
    "bilangan2 = input(\"Bilangan kedua yaitu \")\n",
    "penjumlahan = float(bilangan1) + float(bilangan2)\n",
    "print(\"Penjumlahan dari kedua bilangan yang anda masukkan yaitu \"+ str(penjumlahan))"
   ]
  },
  {
   "cell_type": "markdown",
   "id": "f0b5dcc9",
   "metadata": {},
   "source": [
    "# 5.4 Formatted String"
   ]
  },
  {
   "cell_type": "markdown",
   "id": "354e536e",
   "metadata": {},
   "source": [
    "Figure 8: Mempermudah penulisan variabel menggunakan formatted string."
   ]
  },
  {
   "cell_type": "code",
   "execution_count": null,
   "id": "edd69536",
   "metadata": {},
   "outputs": [],
   "source": [
    "nama_anjing = \"Kiko\"\n",
    "sifat = 'nakal'\n",
    "warna = 'putih'\n",
    "print(nama_anjing + ' merupakan anjing ' + sifat + ' yang mempunyai bulu berwarna ' + warna +'.')"
   ]
  },
  {
   "cell_type": "code",
   "execution_count": null,
   "id": "c86db07d",
   "metadata": {},
   "outputs": [],
   "source": [
    "print(f'{nama_anjing} merupakan anjing {sifat} yang mempunyai bulu berwarna {warna}.')"
   ]
  },
  {
   "cell_type": "code",
   "execution_count": null,
   "id": "ad86494d",
   "metadata": {},
   "outputs": [],
   "source": [
    "print(f\"{nama_anjing} merupakan anjing {sifat} yang mempunyai bulu berwarna {warna}.\")"
   ]
  },
  {
   "cell_type": "markdown",
   "id": "a1ff0066",
   "metadata": {},
   "source": [
    "# 5.5 Strings Index"
   ]
  },
  {
   "cell_type": "markdown",
   "id": "471bba7d",
   "metadata": {},
   "source": [
    "Figure 9: Menampilkan bagian dari data berupa string dengan menggunakan indexnya."
   ]
  },
  {
   "cell_type": "code",
   "execution_count": null,
   "id": "e292432d",
   "metadata": {},
   "outputs": [],
   "source": [
    "kegiatan = 'menari Bali'"
   ]
  },
  {
   "cell_type": "code",
   "execution_count": null,
   "id": "ac33ac47",
   "metadata": {},
   "outputs": [],
   "source": [
    "print(kegiatan[0:5])"
   ]
  },
  {
   "cell_type": "code",
   "execution_count": null,
   "id": "61d7ea9c",
   "metadata": {},
   "outputs": [],
   "source": [
    "print(kegiatan[0:-5])"
   ]
  },
  {
   "cell_type": "code",
   "execution_count": null,
   "id": "041ffdc3",
   "metadata": {},
   "outputs": [],
   "source": [
    "print(kegiatan[2:-3])"
   ]
  },
  {
   "cell_type": "code",
   "execution_count": null,
   "id": "b308f102",
   "metadata": {},
   "outputs": [],
   "source": [
    "print(kegiatan[1:-7:2])"
   ]
  },
  {
   "cell_type": "code",
   "execution_count": null,
   "id": "349e177e",
   "metadata": {},
   "outputs": [],
   "source": [
    "print(kegiatan[:-8])"
   ]
  },
  {
   "cell_type": "code",
   "execution_count": null,
   "id": "85ca443a",
   "metadata": {},
   "outputs": [],
   "source": [
    "print(kegiatan[3:])"
   ]
  },
  {
   "cell_type": "code",
   "execution_count": null,
   "id": "bcc13d48",
   "metadata": {},
   "outputs": [],
   "source": [
    "print(kegiatan[:])"
   ]
  },
  {
   "cell_type": "markdown",
   "id": "26042037",
   "metadata": {},
   "source": [
    "# 5.6 Strings Methods"
   ]
  },
  {
   "cell_type": "markdown",
   "id": "df688a4f",
   "metadata": {},
   "source": [
    "Figure 10: Beberapa jenis Method yang digunakan pada string.\n"
   ]
  },
  {
   "cell_type": "code",
   "execution_count": null,
   "id": "1910cb84",
   "metadata": {},
   "outputs": [],
   "source": [
    "kalimat = 'Kereta tiba pukul empat sore'"
   ]
  },
  {
   "cell_type": "code",
   "execution_count": null,
   "id": "2f6936f8",
   "metadata": {},
   "outputs": [],
   "source": [
    "print(len(kalimat))"
   ]
  },
  {
   "cell_type": "code",
   "execution_count": null,
   "id": "e842203d",
   "metadata": {},
   "outputs": [],
   "source": [
    "kalimat.upper()"
   ]
  },
  {
   "cell_type": "code",
   "execution_count": null,
   "id": "686231c8",
   "metadata": {},
   "outputs": [],
   "source": [
    "kalimat.lower()"
   ]
  },
  {
   "cell_type": "code",
   "execution_count": null,
   "id": "f757071d",
   "metadata": {},
   "outputs": [],
   "source": [
    "kalimat.find('sore')"
   ]
  },
  {
   "cell_type": "code",
   "execution_count": null,
   "id": "583e1012",
   "metadata": {},
   "outputs": [],
   "source": [
    "kalimat.find('kereta')"
   ]
  },
  {
   "cell_type": "code",
   "execution_count": null,
   "id": "1760f42c",
   "metadata": {},
   "outputs": [],
   "source": [
    "kalimat.replace('Kereta', 'Pesawat')"
   ]
  },
  {
   "cell_type": "code",
   "execution_count": null,
   "id": "4de0547e",
   "metadata": {},
   "outputs": [],
   "source": [
    "kalimat.replace('kereta', 'Pesawat')"
   ]
  },
  {
   "cell_type": "code",
   "execution_count": null,
   "id": "1b653640",
   "metadata": {},
   "outputs": [],
   "source": [
    "print('Kereta' in kalimat)"
   ]
  },
  {
   "cell_type": "code",
   "execution_count": null,
   "id": "cc806281",
   "metadata": {},
   "outputs": [],
   "source": [
    "print('kereta' in kalimat)"
   ]
  },
  {
   "cell_type": "markdown",
   "id": "e94b8483",
   "metadata": {},
   "source": [
    "# 5.7 Operasi Matematika di Python\n"
   ]
  },
  {
   "cell_type": "markdown",
   "id": "193484d2",
   "metadata": {},
   "source": [
    "Figure 11: Berbagai jenis operator matematika pada Python"
   ]
  },
  {
   "cell_type": "code",
   "execution_count": null,
   "id": "a7ab82f5",
   "metadata": {},
   "outputs": [],
   "source": [
    "print(21+39)\n",
    "print(21-39)\n",
    "print(21*39)\n",
    "print(100/21)\n",
    "print(100//21)\n",
    "print(100%21)\n",
    "print(21**39)\n",
    "x=6\n",
    "x+=9\n",
    "print(x)\n",
    "x-=10\n",
    "print(x)\n",
    "x*=5\n",
    "print(x)"
   ]
  },
  {
   "cell_type": "markdown",
   "id": "4af99429",
   "metadata": {},
   "source": [
    "# 5.8 Operator Perbandingan di Python"
   ]
  },
  {
   "cell_type": "markdown",
   "id": "c8a73534",
   "metadata": {},
   "source": [
    "Figure 12: Bandingkan hasil program sebelah kiri dengan yang kanan ."
   ]
  },
  {
   "cell_type": "code",
   "execution_count": null,
   "id": "fd910e98",
   "metadata": {},
   "outputs": [],
   "source": [
    "x = 10>2\n",
    "print(x)\n",
    "x = -5<1\n",
    "print(x)\n",
    "x = 10 >= 2\n",
    "print(x)\n",
    "x = -5 <= 1\n",
    "print(x)\n",
    "x = 4 == 4\n",
    "print(x)\n",
    "x = 8 != 0\n",
    "print(x)"
   ]
  },
  {
   "cell_type": "code",
   "execution_count": null,
   "id": "fdf46a7f",
   "metadata": {},
   "outputs": [],
   "source": [
    "x = 2>10\n",
    "print(x)\n",
    "x = 1<-5\n",
    "print(x)\n",
    "x = 2 >= 10\n",
    "print(x)\n",
    "x = 1 <= -5\n",
    "print(x)\n",
    "x = 8 == 0\n",
    "print(x)\n",
    "x = 4 != 4\n",
    "print(x)"
   ]
  },
  {
   "cell_type": "markdown",
   "id": "edd68266",
   "metadata": {},
   "source": [
    "# 5.9 Operator Logika di Python"
   ]
  },
  {
   "cell_type": "markdown",
   "id": "a9cb31f2",
   "metadata": {},
   "source": [
    "Figure 13: Hasil beberapa operator logika di Python"
   ]
  },
  {
   "cell_type": "code",
   "execution_count": null,
   "id": "7fab6658",
   "metadata": {},
   "outputs": [],
   "source": [
    "baju_merah = 12\n",
    "baju_putih = 25\n",
    "print(baju_merah > 10 and baju_putih < 39)"
   ]
  },
  {
   "cell_type": "code",
   "execution_count": null,
   "id": "8cbee06e",
   "metadata": {},
   "outputs": [],
   "source": [
    "print(baju_merah < 10 or baju_putih < 39)"
   ]
  },
  {
   "cell_type": "code",
   "execution_count": null,
   "id": "f6dcaca9",
   "metadata": {},
   "outputs": [],
   "source": [
    "print(baju_merah < 10 or baju_putih > 39)"
   ]
  },
  {
   "cell_type": "code",
   "execution_count": null,
   "id": "1caaa6cb",
   "metadata": {},
   "outputs": [],
   "source": [
    "print(not (baju_merah < 10 or baju_putih > 39))"
   ]
  },
  {
   "cell_type": "markdown",
   "id": "b01b355a",
   "metadata": {},
   "source": [
    "# 5.10 Operator if di Python"
   ]
  },
  {
   "cell_type": "markdown",
   "id": "7853265d",
   "metadata": {},
   "source": [
    "Figure 14: Contoh penerapan operator if"
   ]
  },
  {
   "cell_type": "code",
   "execution_count": null,
   "id": "f14a9cd3",
   "metadata": {},
   "outputs": [],
   "source": [
    "poin = float(input(\"Poin penilaian tarian anda adalah \"))\n",
    "if poin >= 90 :\n",
    "    print (\"Anda masuk ke kelas pertama\")\n",
    "    print (\"Keren banget, selamat ya!\")\n",
    "if poin < 90 and harga >= 80:\n",
    "    print (\"Anda masuk ke kelas kedua\")\n",
    "    print (\"lebih dimantapkan lagi tariannya ya!\") \n",
    "if poin >= 75 and poin <80:\n",
    "    print (\"Anda masuk ke kelas ketiga\")\n",
    "    print (\"Lebih rajin berlatih lagi ya!\")"
   ]
  },
  {
   "cell_type": "code",
   "execution_count": null,
   "id": "36c1871b",
   "metadata": {},
   "outputs": [],
   "source": [
    "poin = float(input(\"Poin penilaian tarian anda adalah \"))\n",
    "if poin >= 90 :\n",
    "    print (\"Anda masuk ke kelas pertama\")\n",
    "    print (\"Keren banget, selamat ya!\")\n",
    "elif poin >= 80:\n",
    "    print (\"Anda masuk ke kelas kedua\")\n",
    "    print (\"lebih dimantapkan lagi tariannya ya!\") \n",
    "else:\n",
    "    print (\"Anda masuk ke kelas ketiga\")\n",
    "    print (\"Lebih rajin berlatih lagi ya!\")"
   ]
  },
  {
   "cell_type": "markdown",
   "id": "9e328ad5",
   "metadata": {},
   "source": [
    "Figure 15: Jawaban latihan operator if."
   ]
  },
  {
   "cell_type": "code",
   "execution_count": null,
   "id": "338b4c4c",
   "metadata": {},
   "outputs": [],
   "source": [
    "tinggi = float(input(\"Berapakah tinggi anda? \"))\n",
    "cm_atau_inci = input(\"Tingginya dalam cm atau inci? \")\n",
    "\n",
    "if cm_atau_inci.upper() == 'CM':\n",
    "    tinggi = tinggi*0.393701\n",
    "    print(\"Tinggi anda adalah \" + str(tinggi) + \" inci\")\n",
    "elif cm_atau_inci.upper() == 'INCI':\n",
    "    tinggi = tinggi/0.393701\n",
    "    print(f\"Tinggi anda adalah {tinggi} cm\")"
   ]
  },
  {
   "cell_type": "markdown",
   "id": "e80a9a71",
   "metadata": {},
   "source": [
    "# 5.11 While loop"
   ]
  },
  {
   "cell_type": "markdown",
   "id": "08feaa6e",
   "metadata": {},
   "source": [
    "Figure 16: Contoh penerapan operator while loop"
   ]
  },
  {
   "cell_type": "code",
   "execution_count": null,
   "id": "031b5469",
   "metadata": {},
   "outputs": [],
   "source": [
    "a = 5\n",
    "while a < 10:\n",
    "    print(\"Angka \" + str(a)+\" lebih kecil dari 10\")\n",
    "    a += 1"
   ]
  }
 ],
 "metadata": {
  "kernelspec": {
   "display_name": "Python 3 (ipykernel)",
   "language": "python",
   "name": "python3"
  },
  "language_info": {
   "codemirror_mode": {
    "name": "ipython",
    "version": 3
   },
   "file_extension": ".py",
   "mimetype": "text/x-python",
   "name": "python",
   "nbconvert_exporter": "python",
   "pygments_lexer": "ipython3",
   "version": "3.9.7"
  }
 },
 "nbformat": 4,
 "nbformat_minor": 5
}
